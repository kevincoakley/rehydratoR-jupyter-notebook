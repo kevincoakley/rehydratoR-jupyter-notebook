{
 "cells": [
  {
   "cell_type": "markdown",
   "metadata": {},
   "source": [
    "# rehydratoR - example tibble download\n",
    "\n",
    "This Jupyter Notebook is an example of how to use the rehydratoR R package to facilitate the replication of Twitter-based research by providing a convenient function to download lists of tweets.\n",
    "\n",
    "The input for the package is a list of tweet ID numbers. See https://archive.org/details/gaza-tweets for an example.\n",
    "\n",
    "The output of the package are the tweets downloaded a [tibble](https://CRAN.R-project.org/package=tibble).\n",
    "\n",
    "This package limits the rate of tweet downloading so Twitter's 90,000 tweet/15 minute limit is not exceeded.\n",
    "\n",
    "Tweets that have been deleted or made private cannot be downloaded.\n",
    "\n",
    "A Twitter developer account is required. You can apply for a developer account at https://developer.twitter.com."
   ]
  },
  {
   "cell_type": "markdown",
   "metadata": {},
   "source": [
    "Download the Gaza Tweets from archive.org."
   ]
  },
  {
   "cell_type": "code",
   "execution_count": 1,
   "metadata": {},
   "outputs": [
    {
     "name": "stdout",
     "output_type": "stream",
     "text": [
      "\n"
     ]
    }
   ],
   "source": [
    "cat(system('curl -L -O https://archive.org/download/gaza-tweets/ids.txt.gz', intern=TRUE), sep='\\n')"
   ]
  },
  {
   "cell_type": "markdown",
   "metadata": {},
   "source": [
    "Decompress the gzip file with the tweet ids."
   ]
  },
  {
   "cell_type": "code",
   "execution_count": 2,
   "metadata": {},
   "outputs": [
    {
     "name": "stdout",
     "output_type": "stream",
     "text": [
      "\n"
     ]
    }
   ],
   "source": [
    "cat(system('gunzip ids.txt.gz', intern=TRUE), sep='\\n')"
   ]
  },
  {
   "cell_type": "markdown",
   "metadata": {},
   "source": [
    "Use the head command to make ids.txt contain only the first 100 tweet ids. Skip this cell to process all of the tweet ids. The original file contains 4058754 tweet ids, downloading all 4058754 tweets can take a long time."
   ]
  },
  {
   "cell_type": "code",
   "execution_count": 3,
   "metadata": {},
   "outputs": [
    {
     "name": "stdout",
     "output_type": "stream",
     "text": [
      "\n"
     ]
    }
   ],
   "source": [
    "cat(system('mv ids.txt ids-orig.txt; head -n 100 ids-orig.txt > ids.txt', intern=TRUE), sep='\\n')"
   ]
  },
  {
   "cell_type": "markdown",
   "metadata": {},
   "source": [
    "Load the rehydratoR libary. "
   ]
  },
  {
   "cell_type": "code",
   "execution_count": 4,
   "metadata": {},
   "outputs": [],
   "source": [
    "library(rehydratoR)"
   ]
  },
  {
   "cell_type": "markdown",
   "metadata": {},
   "source": [
    "Set the name for the saved tweets and read the tweet ids from ids.txt into a variable."
   ]
  },
  {
   "cell_type": "code",
   "execution_count": 5,
   "metadata": {},
   "outputs": [],
   "source": [
    "saved_tweets <- \"tweets.Rda\"\n",
    "tweet_ids_file <- \"ids.txt\""
   ]
  },
  {
   "cell_type": "markdown",
   "metadata": {},
   "source": [
    "Load the tweets into a tibble. You will need to create a Twitter app from https://developer.twitter.com/en/apps and copy the api keys below."
   ]
  },
  {
   "cell_type": "code",
   "execution_count": 6,
   "metadata": {},
   "outputs": [],
   "source": [
    "# If saved_tweets exist, load the tweets from disk, otherwise download the tweets from Twitter\n",
    "if(file.exists(saved_tweets)){\n",
    "  load(saved_tweets)\n",
    "} else {\n",
    "  # Get Twitter api keys from https://developer.twitter.com/en/apps \n",
    "  consumerKey <- ''\n",
    "  consumerSecret <- ''\n",
    "  accessToken <- ''\n",
    "  accessTokenSecret <- ''\n",
    "\n",
    "  # Read tweet ids\n",
    "  tweet_ids <- data.frame(read.table(tweet_ids_file, numerals = 'no.loss'))\n",
    "\n",
    "  # Download the tweets using rehydratoR\n",
    "  tweets <- rehydratoR(consumerKey, consumerSecret, accessToken, accessTokenSecret, tweet_ids)\n",
    "\n",
    "  # Save tweets to disk\n",
    "  save(tweets, file=saved_tweets)\n",
    "}"
   ]
  },
  {
   "cell_type": "markdown",
   "metadata": {},
   "source": [
    "Read the tweet ids into data frame."
   ]
  },
  {
   "cell_type": "code",
   "execution_count": 7,
   "metadata": {},
   "outputs": [
    {
     "name": "stdout",
     "output_type": "stream",
     "text": [
      "# A tibble: 58 x 90\n",
      "   user_id status_id created_at          screen_name text  source\n",
      "   <chr>   <chr>     <dttm>              <chr>       <chr> <chr> \n",
      " 1 572615… 99379269… 2018-05-08 10:00:16 Metro_TV    Yaya… Sprou…\n",
      " 2 188055… 99379308… 2018-05-08 10:01:49 MKhalaifa   #Gaz… Twitt…\n",
      " 3 322716… 99378903… 2018-05-08 09:45:43 SayakEnver  @bar… Twitt…\n",
      " 4 297931… 99379065… 2018-05-08 09:52:10 _Bleam      RAW:… Twitt…\n",
      " 5 231381… 99379147… 2018-05-08 09:55:27 uplink_shi… \"💐劇場… Tweet…\n",
      " 6 473371… 99377146… 2018-05-08 08:35:55 OmarElQatt… \"شئٌ…  Twitt…\n",
      " 7 959549… 99377407… 2018-05-08 08:46:17 UweFelber1  @mim… Twitt…\n",
      " 8 280082… 99379152… 2018-05-08 09:55:38 giokonta    RAW:… Twitt…\n",
      " 9 787624… 99378960… 2018-05-08 09:47:59 Meli_Posit… Donc… Twitt…\n",
      "10 430858… 99377739… 2018-05-08 08:59:29 Fake_Sheikh \"“My… Twitt…\n",
      "# … with 48 more rows, and 84 more variables: display_text_width <dbl>,\n",
      "#   reply_to_status_id <chr>, reply_to_user_id <chr>,\n",
      "#   reply_to_screen_name <chr>, is_quote <lgl>, is_retweet <lgl>,\n",
      "#   favorite_count <int>, retweet_count <int>, quote_count <int>,\n",
      "#   reply_count <int>, hashtags <list>, symbols <list>, urls_url <list>,\n",
      "#   urls_t.co <list>, urls_expanded_url <list>, media_url <list>,\n",
      "#   media_t.co <list>, media_expanded_url <list>, media_type <list>,\n",
      "#   ext_media_url <list>, ext_media_t.co <list>, ext_media_expanded_url <list>,\n",
      "#   ext_media_type <chr>, mentions_user_id <list>, mentions_screen_name <list>,\n",
      "#   lang <chr>, quoted_status_id <chr>, quoted_text <chr>,\n",
      "#   quoted_created_at <dttm>, quoted_source <chr>, quoted_favorite_count <int>,\n",
      "#   quoted_retweet_count <int>, quoted_user_id <chr>, quoted_screen_name <chr>,\n",
      "#   quoted_name <chr>, quoted_followers_count <int>,\n",
      "#   quoted_friends_count <int>, quoted_statuses_count <int>,\n",
      "#   quoted_location <chr>, quoted_description <chr>, quoted_verified <lgl>,\n",
      "#   retweet_status_id <chr>, retweet_text <chr>, retweet_created_at <dttm>,\n",
      "#   retweet_source <chr>, retweet_favorite_count <int>,\n",
      "#   retweet_retweet_count <int>, retweet_user_id <chr>,\n",
      "#   retweet_screen_name <chr>, retweet_name <chr>,\n",
      "#   retweet_followers_count <int>, retweet_friends_count <int>,\n",
      "#   retweet_statuses_count <int>, retweet_location <chr>,\n",
      "#   retweet_description <chr>, retweet_verified <lgl>, place_url <chr>,\n",
      "#   place_name <chr>, place_full_name <chr>, place_type <chr>, country <chr>,\n",
      "#   country_code <chr>, geo_coords <list>, coords_coords <list>,\n",
      "#   bbox_coords <list>, status_url <chr>, name <chr>, location <chr>,\n",
      "#   description <chr>, url <chr>, protected <lgl>, followers_count <int>,\n",
      "#   friends_count <int>, listed_count <int>, statuses_count <int>,\n",
      "#   favourites_count <int>, account_created_at <dttm>, verified <lgl>,\n",
      "#   profile_url <chr>, profile_expanded_url <chr>, account_lang <lgl>,\n",
      "#   profile_banner_url <chr>, profile_background_url <chr>,\n",
      "#   profile_image_url <chr>\n"
     ]
    }
   ],
   "source": [
    "show(tweets)"
   ]
  },
  {
   "cell_type": "markdown",
   "metadata": {},
   "source": [
    "Remove the downloaded tweet id source files."
   ]
  },
  {
   "cell_type": "code",
   "execution_count": 8,
   "metadata": {},
   "outputs": [
    {
     "name": "stdout",
     "output_type": "stream",
     "text": [
      "\n"
     ]
    }
   ],
   "source": [
    "cat(system('rm ids.txt ids-orig.txt', intern=TRUE), sep='\\n')"
   ]
  }
 ],
 "metadata": {
  "kernelspec": {
   "display_name": "R",
   "language": "R",
   "name": "ir"
  },
  "language_info": {
   "codemirror_mode": "r",
   "file_extension": ".r",
   "mimetype": "text/x-r-source",
   "name": "R",
   "pygments_lexer": "r",
   "version": "3.6.1"
  }
 },
 "nbformat": 4,
 "nbformat_minor": 4
}
